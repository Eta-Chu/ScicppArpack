{
 "cells": [
  {
   "cell_type": "code",
   "execution_count": 1,
   "id": "e2a02d80",
   "metadata": {},
   "outputs": [],
   "source": [
    "import numpy as np\n",
    "from scipy.sparse.linalg import eigs, eigsh"
   ]
  },
  {
   "cell_type": "markdown",
   "id": "3ad8af21",
   "metadata": {},
   "source": [
    "---"
   ]
  },
  {
   "cell_type": "code",
   "execution_count": 48,
   "id": "d4f527ec",
   "metadata": {},
   "outputs": [],
   "source": [
    "mat = np.load('./build/mat.npy')\n",
    "v = np.load('./build/v.npy')\n",
    "z = np.load('./build/z.npy')"
   ]
  },
  {
   "cell_type": "code",
   "execution_count": 49,
   "id": "1a2f40db",
   "metadata": {},
   "outputs": [
    {
     "data": {
      "text/plain": [
       "(20, 20)"
      ]
     },
     "execution_count": 49,
     "metadata": {},
     "output_type": "execute_result"
    }
   ],
   "source": [
    "mat.shape"
   ]
  },
  {
   "cell_type": "code",
   "execution_count": 50,
   "id": "2016fa19",
   "metadata": {},
   "outputs": [],
   "source": [
    "val, vec = eigsh(mat, which='SA')"
   ]
  },
  {
   "cell_type": "code",
   "execution_count": 51,
   "id": "bd200f71",
   "metadata": {},
   "outputs": [
    {
     "data": {
      "text/plain": [
       "array([-11.08658237,  -9.30788098,  -8.37053813,  -7.66785315,\n",
       "        -6.03360495,  -5.2235537 ])"
      ]
     },
     "execution_count": 51,
     "metadata": {},
     "output_type": "execute_result"
    }
   ],
   "source": [
    "val"
   ]
  },
  {
   "cell_type": "code",
   "execution_count": 52,
   "id": "9cd3b3fc",
   "metadata": {},
   "outputs": [
    {
     "data": {
      "text/plain": [
       "(20, 6)"
      ]
     },
     "execution_count": 52,
     "metadata": {},
     "output_type": "execute_result"
    }
   ],
   "source": [
    "vec.shape"
   ]
  },
  {
   "cell_type": "code",
   "execution_count": 53,
   "id": "dec8d956",
   "metadata": {},
   "outputs": [
    {
     "data": {
      "text/plain": [
       "(11, 20)"
      ]
     },
     "execution_count": 53,
     "metadata": {},
     "output_type": "execute_result"
    }
   ],
   "source": [
    "v.shape"
   ]
  },
  {
   "cell_type": "code",
   "execution_count": 54,
   "id": "49832ad6",
   "metadata": {},
   "outputs": [
    {
     "data": {
      "text/plain": [
       "(5, 20)"
      ]
     },
     "execution_count": 54,
     "metadata": {},
     "output_type": "execute_result"
    }
   ],
   "source": [
    "z.shape"
   ]
  },
  {
   "cell_type": "code",
   "execution_count": 55,
   "id": "7ea9fcab",
   "metadata": {},
   "outputs": [],
   "source": [
    "zz = z.T\n",
    "vv = v.T"
   ]
  },
  {
   "cell_type": "code",
   "execution_count": 56,
   "id": "3fb81bdc",
   "metadata": {},
   "outputs": [
    {
     "data": {
      "text/plain": [
       "(20, 5)"
      ]
     },
     "execution_count": 56,
     "metadata": {},
     "output_type": "execute_result"
    }
   ],
   "source": [
    "zz.shape"
   ]
  },
  {
   "cell_type": "code",
   "execution_count": 57,
   "id": "6171512c",
   "metadata": {},
   "outputs": [
    {
     "data": {
      "text/plain": [
       "array([ 0.20085961, -0.07944075,  0.09594667, -0.52560648,  0.30341857,\n",
       "        0.02803882,  0.09206886, -0.03670221,  0.02176615, -0.19617004,\n",
       "       -0.22682371,  0.20978223,  0.04811966,  0.14475389, -0.01164532,\n",
       "        0.09539302, -0.16644396,  0.5847249 , -0.09210771,  0.14210782])"
      ]
     },
     "execution_count": 57,
     "metadata": {},
     "output_type": "execute_result"
    }
   ],
   "source": [
    "vec[:, 0]"
   ]
  },
  {
   "cell_type": "code",
   "execution_count": 58,
   "id": "c0f373f0",
   "metadata": {},
   "outputs": [
    {
     "data": {
      "text/plain": [
       "array([ 0.20085961, -0.07944075,  0.09594667, -0.52560648,  0.30341857,\n",
       "        0.02803882,  0.09206886, -0.03670221,  0.02176615, -0.19617004,\n",
       "       -0.22682371,  0.20978223,  0.04811966,  0.14475389, -0.01164532,\n",
       "        0.09539302, -0.16644396,  0.5847249 , -0.09210771,  0.14210782])"
      ]
     },
     "execution_count": 58,
     "metadata": {},
     "output_type": "execute_result"
    }
   ],
   "source": [
    "zz[:, 0]"
   ]
  },
  {
   "cell_type": "code",
   "execution_count": 59,
   "id": "7f7b7876",
   "metadata": {},
   "outputs": [
    {
     "data": {
      "text/plain": [
       "True"
      ]
     },
     "execution_count": 59,
     "metadata": {},
     "output_type": "execute_result"
    }
   ],
   "source": [
    "np.allclose(np.abs(zz), np.abs(vec[:, :5]))"
   ]
  },
  {
   "cell_type": "code",
   "execution_count": 60,
   "id": "dc13e862",
   "metadata": {},
   "outputs": [
    {
     "data": {
      "text/plain": [
       "array([[ 0.20085961,  0.34798462, -0.06888834,  0.02259595, -0.23042008],\n",
       "       [-0.07944075, -0.36863598,  0.26160182, -0.18286541,  0.07937888],\n",
       "       [ 0.09594667,  0.27610118,  0.06180076, -0.58244608, -0.25890197],\n",
       "       [-0.52560648, -0.05610194, -0.11857412,  0.01113821,  0.05874886],\n",
       "       [ 0.30341857, -0.22342617, -0.08337484, -0.10051212,  0.41117734],\n",
       "       [ 0.02803882,  0.02442228, -0.10309479, -0.03270065, -0.13225128],\n",
       "       [ 0.09206886, -0.25087444, -0.38280004, -0.41159357,  0.05702956],\n",
       "       [-0.03670221, -0.10935066, -0.10118654,  0.20137703, -0.08027574],\n",
       "       [ 0.02176615, -0.25803577,  0.21660999,  0.10668038, -0.13409373],\n",
       "       [-0.19617004, -0.41108613, -0.00897776, -0.25597759, -0.25935009],\n",
       "       [-0.22682371,  0.13948551, -0.28163767,  0.16203543,  0.33908497],\n",
       "       [ 0.20978223,  0.00532121, -0.27152568,  0.036027  ,  0.25449004],\n",
       "       [ 0.04811966,  0.07343161, -0.46326259,  0.11625573,  0.02059089],\n",
       "       [ 0.14475389, -0.13934764,  0.15797582, -0.14104693,  0.38357623],\n",
       "       [-0.01164532,  0.22374055, -0.04168269, -0.40247117,  0.09443277],\n",
       "       [ 0.09539302, -0.27391089, -0.22541474,  0.24157313, -0.43348915],\n",
       "       [-0.16644396,  0.12047787, -0.35453479, -0.12198112, -0.09830676],\n",
       "       [ 0.5847249 ,  0.01690229,  0.05221699,  0.13026217, -0.10592388],\n",
       "       [-0.09210771,  0.21799898,  0.13500306, -0.03796389, -0.11669962],\n",
       "       [ 0.14210782, -0.26635266, -0.30947308, -0.11853433, -0.17318998]])"
      ]
     },
     "execution_count": 60,
     "metadata": {},
     "output_type": "execute_result"
    }
   ],
   "source": [
    "vec[:, :5]"
   ]
  },
  {
   "cell_type": "code",
   "execution_count": 61,
   "id": "5989b79f",
   "metadata": {},
   "outputs": [
    {
     "data": {
      "text/plain": [
       "array([[ 0.20085961, -0.34798462,  0.06888834,  0.02259595,  0.23042008],\n",
       "       [-0.07944075,  0.36863598, -0.26160182, -0.18286541, -0.07937888],\n",
       "       [ 0.09594667, -0.27610118, -0.06180076, -0.58244608,  0.25890197],\n",
       "       [-0.52560648,  0.05610194,  0.11857412,  0.01113821, -0.05874886],\n",
       "       [ 0.30341857,  0.22342617,  0.08337484, -0.10051212, -0.41117734],\n",
       "       [ 0.02803882, -0.02442228,  0.10309479, -0.03270065,  0.13225128],\n",
       "       [ 0.09206886,  0.25087444,  0.38280004, -0.41159357, -0.05702956],\n",
       "       [-0.03670221,  0.10935066,  0.10118654,  0.20137703,  0.08027574],\n",
       "       [ 0.02176615,  0.25803577, -0.21660999,  0.10668038,  0.13409373],\n",
       "       [-0.19617004,  0.41108613,  0.00897776, -0.25597759,  0.25935009],\n",
       "       [-0.22682371, -0.13948551,  0.28163767,  0.16203543, -0.33908497],\n",
       "       [ 0.20978223, -0.00532121,  0.27152568,  0.036027  , -0.25449004],\n",
       "       [ 0.04811966, -0.07343161,  0.46326259,  0.11625573, -0.02059089],\n",
       "       [ 0.14475389,  0.13934764, -0.15797582, -0.14104693, -0.38357623],\n",
       "       [-0.01164532, -0.22374055,  0.04168269, -0.40247117, -0.09443277],\n",
       "       [ 0.09539302,  0.27391089,  0.22541474,  0.24157313,  0.43348915],\n",
       "       [-0.16644396, -0.12047787,  0.35453479, -0.12198112,  0.09830676],\n",
       "       [ 0.5847249 , -0.01690229, -0.05221699,  0.13026217,  0.10592388],\n",
       "       [-0.09210771, -0.21799898, -0.13500306, -0.03796389,  0.11669962],\n",
       "       [ 0.14210782,  0.26635266,  0.30947308, -0.11853433,  0.17318998]])"
      ]
     },
     "execution_count": 61,
     "metadata": {},
     "output_type": "execute_result"
    }
   ],
   "source": [
    "zz "
   ]
  },
  {
   "cell_type": "code",
   "execution_count": 62,
   "id": "4ff35218",
   "metadata": {},
   "outputs": [
    {
     "data": {
      "text/plain": [
       "array([[ 0.20085961, -0.34798462,  0.06888834,  0.02259595,  0.23042008],\n",
       "       [-0.07944075,  0.36863598, -0.26160182, -0.18286541, -0.07937888],\n",
       "       [ 0.09594667, -0.27610118, -0.06180076, -0.58244608,  0.25890197],\n",
       "       [-0.52560648,  0.05610194,  0.11857412,  0.01113821, -0.05874886],\n",
       "       [ 0.30341857,  0.22342617,  0.08337484, -0.10051212, -0.41117734],\n",
       "       [ 0.02803882, -0.02442228,  0.10309479, -0.03270065,  0.13225128],\n",
       "       [ 0.09206886,  0.25087444,  0.38280004, -0.41159357, -0.05702956],\n",
       "       [-0.03670221,  0.10935066,  0.10118654,  0.20137703,  0.08027574],\n",
       "       [ 0.02176615,  0.25803577, -0.21660999,  0.10668038,  0.13409373],\n",
       "       [-0.19617004,  0.41108613,  0.00897776, -0.25597759,  0.25935009],\n",
       "       [-0.22682371, -0.13948551,  0.28163767,  0.16203543, -0.33908497],\n",
       "       [ 0.20978223, -0.00532121,  0.27152568,  0.036027  , -0.25449004],\n",
       "       [ 0.04811966, -0.07343161,  0.46326259,  0.11625573, -0.02059089],\n",
       "       [ 0.14475389,  0.13934764, -0.15797582, -0.14104693, -0.38357623],\n",
       "       [-0.01164532, -0.22374055,  0.04168269, -0.40247117, -0.09443277],\n",
       "       [ 0.09539302,  0.27391089,  0.22541474,  0.24157313,  0.43348915],\n",
       "       [-0.16644396, -0.12047787,  0.35453479, -0.12198112,  0.09830676],\n",
       "       [ 0.5847249 , -0.01690229, -0.05221699,  0.13026217,  0.10592388],\n",
       "       [-0.09210771, -0.21799898, -0.13500306, -0.03796389,  0.11669962],\n",
       "       [ 0.14210782,  0.26635266,  0.30947308, -0.11853433,  0.17318998]])"
      ]
     },
     "execution_count": 62,
     "metadata": {},
     "output_type": "execute_result"
    }
   ],
   "source": [
    "vv[:, :5]"
   ]
  },
  {
   "cell_type": "code",
   "execution_count": null,
   "id": "8d9c1bdc",
   "metadata": {},
   "outputs": [],
   "source": []
  },
  {
   "cell_type": "code",
   "execution_count": null,
   "id": "c8b6c023",
   "metadata": {},
   "outputs": [],
   "source": []
  },
  {
   "cell_type": "code",
   "execution_count": 67,
   "id": "5b7a0215",
   "metadata": {},
   "outputs": [],
   "source": [
    "mat = np.load('./build/double_m.npy')\n",
    "cvec = np.load('./build/double_vec.npy')"
   ]
  },
  {
   "cell_type": "code",
   "execution_count": 68,
   "id": "e8e370d4",
   "metadata": {},
   "outputs": [],
   "source": [
    "val, vec = eigsh(mat, which = 'SA')"
   ]
  },
  {
   "cell_type": "code",
   "execution_count": 69,
   "id": "5a6d9d4e",
   "metadata": {
    "scrolled": true
   },
   "outputs": [
    {
     "data": {
      "text/plain": [
       "array([-11.08658237,  -9.30788098,  -8.37053813,  -7.66785315,\n",
       "        -6.03360495,  -5.2235537 ])"
      ]
     },
     "execution_count": 69,
     "metadata": {},
     "output_type": "execute_result"
    }
   ],
   "source": [
    "val"
   ]
  },
  {
   "cell_type": "code",
   "execution_count": 77,
   "id": "3e617915",
   "metadata": {},
   "outputs": [
    {
     "name": "stdout",
     "output_type": "stream",
     "text": [
      "True\n",
      "True\n",
      "True\n",
      "True\n",
      "True\n",
      "True\n"
     ]
    }
   ],
   "source": [
    "for i, j in zip(vec.T, cvec.T):\n",
    "    print(np.allclose(i, j*(i[0] / j[0])))"
   ]
  },
  {
   "cell_type": "code",
   "execution_count": null,
   "id": "0f7f454a",
   "metadata": {},
   "outputs": [],
   "source": []
  },
  {
   "cell_type": "code",
   "execution_count": null,
   "id": "6dc7034c",
   "metadata": {},
   "outputs": [],
   "source": []
  },
  {
   "cell_type": "code",
   "execution_count": null,
   "id": "1e441130",
   "metadata": {},
   "outputs": [],
   "source": []
  },
  {
   "cell_type": "code",
   "execution_count": 2,
   "id": "419efaef",
   "metadata": {},
   "outputs": [],
   "source": [
    "mat = np.load('./build/complex_m.npy')"
   ]
  },
  {
   "cell_type": "code",
   "execution_count": 3,
   "id": "2016e591",
   "metadata": {},
   "outputs": [
    {
     "data": {
      "text/plain": [
       "True"
      ]
     },
     "execution_count": 3,
     "metadata": {},
     "output_type": "execute_result"
    }
   ],
   "source": [
    "np.allclose(mat, np.conj(mat).T)"
   ]
  },
  {
   "cell_type": "code",
   "execution_count": 4,
   "id": "91bfb558",
   "metadata": {},
   "outputs": [],
   "source": [
    "#val, vec = eigsh(mat, which='SA')\n",
    "val, vec = eigs(mat, which='SR')"
   ]
  },
  {
   "cell_type": "code",
   "execution_count": 5,
   "id": "2076bcfe",
   "metadata": {},
   "outputs": [
    {
     "data": {
      "text/plain": [
       "array([-10.69144096+5.05094035e-16j,  -8.62753171+4.80264332e-17j,\n",
       "        -4.95338376+1.55247420e-16j,  -3.02639176-1.75243267e-16j,\n",
       "        -0.08293918+3.59574198e-16j,   1.0308716 -4.54052817e-16j])"
      ]
     },
     "execution_count": 5,
     "metadata": {},
     "output_type": "execute_result"
    }
   ],
   "source": [
    "val"
   ]
  },
  {
   "cell_type": "code",
   "execution_count": null,
   "id": "6433a9aa",
   "metadata": {},
   "outputs": [],
   "source": []
  }
 ],
 "metadata": {
  "kernelspec": {
   "display_name": "Python [conda env:dmrg]",
   "language": "python",
   "name": "conda-env-dmrg-py"
  },
  "language_info": {
   "codemirror_mode": {
    "name": "ipython",
    "version": 3
   },
   "file_extension": ".py",
   "mimetype": "text/x-python",
   "name": "python",
   "nbconvert_exporter": "python",
   "pygments_lexer": "ipython3",
   "version": "3.10.6"
  }
 },
 "nbformat": 4,
 "nbformat_minor": 5
}
